{
 "cells": [
  {
   "cell_type": "code",
   "execution_count": 4,
   "metadata": {},
   "outputs": [],
   "source": [
    "import uuid\n",
    "from datetime import datetime\n",
    "\n",
    "class TaskManager:\n",
    "  tasks = [{\n",
    "    \"id\": str(uuid.uuid4().int)[:6],\n",
    "    \"name\": \"TaskManager Prototype\",\n",
    "    \"description\": \"For WeStride Challenge\",\n",
    "    \"started date\": \"24/10/2024\",\n",
    "    \"completed date\": \"-\"\n",
    "  }]\n",
    "\n",
    "  def __init__(self):\n",
    "    pass\n",
    "\n",
    "  def addTask(self):\n",
    "    taskId = str(uuid.uuid4().int)[:6]\n",
    "    self.tasks.append({\n",
    "      \"id\": taskId,\n",
    "      \"name\": input(\"input task's name: \"),\n",
    "      \"description\": input(\"input task's description: \"),\n",
    "      \"started date\": datetime.now().strftime(\"%d/%m/%Y\"),\n",
    "      \"completed date\": \"-\"\n",
    "    })\n",
    "    isSuccess = False\n",
    "    for task in self.tasks:\n",
    "      if task[\"id\"] == taskId:\n",
    "        print(\"Add task success!\")\n",
    "        print(task)\n",
    "        isSuccess = True\n",
    "        break\n",
    "    if not isSuccess:\n",
    "      print(\"Add task not success!!!\")\n",
    "\n",
    "  def viewTask(self):\n",
    "    print(self.tasks)\n",
    "\n",
    "  def completedTask(self):\n",
    "    pass\n",
    "\n",
    "  def deleteTask(self):\n",
    "    pass\n",
    "\n",
    "  def loadTask(self):\n",
    "    pass\n",
    "\n",
    "  def findTask(self):\n",
    "    pass"
   ]
  },
  {
   "cell_type": "code",
   "execution_count": 6,
   "metadata": {},
   "outputs": [
    {
     "name": "stdout",
     "output_type": "stream",
     "text": [
      "[{'id': '762936', 'name': 'TaskManager Prototype', 'description': 'For WeStride Challenge', 'started date': '24/10/2024', 'completed date': '-'}]\n",
      "Add task success!\n",
      "{'id': '311868', 'name': 'non', 'description': 'sss', 'started date': '24/10/2024', 'completed date': '-'}\n"
     ]
    }
   ],
   "source": [
    "taskManager = TaskManager()\n",
    "taskManager.viewTask()\n",
    "taskManager.addTask()"
   ]
  }
 ],
 "metadata": {
  "kernelspec": {
   "display_name": "Python 3",
   "language": "python",
   "name": "python3"
  },
  "language_info": {
   "codemirror_mode": {
    "name": "ipython",
    "version": 3
   },
   "file_extension": ".py",
   "mimetype": "text/x-python",
   "name": "python",
   "nbconvert_exporter": "python",
   "pygments_lexer": "ipython3",
   "version": "3.12.6"
  }
 },
 "nbformat": 4,
 "nbformat_minor": 2
}
