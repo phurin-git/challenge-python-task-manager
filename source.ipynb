{
 "cells": [
  {
   "cell_type": "code",
   "execution_count": null,
   "metadata": {},
   "outputs": [],
   "source": [
    "class TaskManager:\n",
    "  def __init__(self):\n",
    "    pass\n",
    "\n",
    "  def addTask(self):\n",
    "    pass\n",
    "\n",
    "  def viewTask(self):\n",
    "    pass\n",
    "\n",
    "  def completedTask(self):\n",
    "    pass\n",
    "\n",
    "  def deleteTask(self):\n",
    "    pass\n",
    "\n",
    "  def loadTask(self):\n",
    "    pass\n",
    "\n",
    "  def findTask(self):\n",
    "    pass"
   ]
  }
 ],
 "metadata": {
  "language_info": {
   "name": "python"
  }
 },
 "nbformat": 4,
 "nbformat_minor": 2
}
