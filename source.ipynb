{
 "cells": [
  {
   "cell_type": "code",
   "execution_count": 53,
   "metadata": {},
   "outputs": [],
   "source": [
    "import uuid\n",
    "from datetime import datetime\n",
    "\n",
    "class TaskManager:\n",
    "  tasks = [{\n",
    "    \"id\": int(str(uuid.uuid4().int)[:6]),\n",
    "    \"name\": \"TaskManager Prototype\",\n",
    "    \"description\": \"For WeStride Challenge\",\n",
    "    \"started date\": \"24/10/2024\",\n",
    "    \"completed date\": \"-\",\n",
    "    \"status\": \"Waiting\"\n",
    "  }]\n",
    "\n",
    "  def __init__(self):\n",
    "    pass\n",
    "\n",
    "  def addTask(self):\n",
    "    taskId = int(str(uuid.uuid4().int)[:6])\n",
    "    self.tasks.append({\n",
    "      \"id\": taskId,\n",
    "      \"name\": input(\"input task's name: \"),\n",
    "      \"description\": input(\"input task's description: \"),\n",
    "      \"started date\": datetime.now().strftime(\"%d/%m/%Y\"),\n",
    "      \"completed date\": \"-\",\n",
    "      \"status\": \"Waiting\"\n",
    "    })\n",
    "    isSuccess = False\n",
    "    for task in self.tasks:\n",
    "      if task[\"id\"] == taskId:\n",
    "        print(\"Add task success!\")\n",
    "        print(task)\n",
    "        isSuccess = True\n",
    "        break\n",
    "    if not isSuccess:\n",
    "      print(\"Add task not success!!!\")\n",
    "\n",
    "  def viewTask(self):\n",
    "    print(self.tasks)\n",
    "\n",
    "  def completedTask(self, taskId:int):\n",
    "    for task in self.tasks:\n",
    "      if task[\"id\"] == taskId:\n",
    "        task[\"completed date\"] = datetime.now().strftime(\"%d/%m/%Y\")\n",
    "        task[\"status\"] = \"Completed\"\n",
    "        break\n",
    "    isSuccess = False\n",
    "    for task in self.tasks:\n",
    "      if task[\"id\"] == taskId and task[\"status\"] == \"Completed\":\n",
    "        print(\"Task Completed!\")\n",
    "        print(task)\n",
    "        isSuccess = True\n",
    "        break\n",
    "    if not isSuccess:\n",
    "      print(\"Task not found!!!\")\n",
    "\n",
    "  def deleteTask(self, taskId:int):\n",
    "    for i in range(len(self.tasks)):\n",
    "      if self.tasks[i][\"id\"] == taskId:\n",
    "        self.tasks.pop(i)\n",
    "        break\n",
    "    for task in self.tasks:\n",
    "      if task[\"id\"] == taskId:\n",
    "        print(\"Task delete not success!!!\")\n",
    "        break\n",
    "    print(\"Task deleted!\")\n",
    "    print(self.tasks)\n",
    "\n",
    "  def loadTask(self):\n",
    "    pass\n",
    "\n",
    "  def findTask(self, wordToFind):\n",
    "    results = []\n",
    "    for i in range(len(self.tasks)):\n",
    "      for value in self.tasks[i].values():\n",
    "        if str(value).find(wordToFind) >= 0:\n",
    "          results.append(self.tasks[i])\n",
    "          break\n",
    "    print(f\"Found {len(results)} result{\"s\"*bool(len(results))}.\")\n",
    "    print(results)"
   ]
  },
  {
   "cell_type": "code",
   "execution_count": 54,
   "metadata": {},
   "outputs": [
    {
     "name": "stdout",
     "output_type": "stream",
     "text": [
      "[{'id': 142116, 'name': 'TaskManager Prototype', 'description': 'For WeStride Challenge', 'started date': '24/10/2024', 'completed date': '-', 'status': 'Waiting'}]\n"
     ]
    }
   ],
   "source": [
    "taskManager = TaskManager()\n",
    "taskManager.viewTask()"
   ]
  },
  {
   "cell_type": "code",
   "execution_count": 56,
   "metadata": {},
   "outputs": [
    {
     "name": "stdout",
     "output_type": "stream",
     "text": [
      "Add task success!\n",
      "{'id': 192366, 'name': 'P', 'description': '', 'started date': '24/10/2024', 'completed date': '-', 'status': 'Waiting'}\n"
     ]
    }
   ],
   "source": [
    "taskManager.addTask()"
   ]
  },
  {
   "cell_type": "code",
   "execution_count": 31,
   "metadata": {},
   "outputs": [
    {
     "name": "stdout",
     "output_type": "stream",
     "text": [
      "Task Completed!\n",
      "{'id': 190016, 'name': 't', 'description': '', 'started date': '24/10/2024', 'completed date': '24/10/2024', 'status': 'Completed'}\n"
     ]
    }
   ],
   "source": [
    "taskManager.completedTask(190016)"
   ]
  },
  {
   "cell_type": "code",
   "execution_count": 32,
   "metadata": {},
   "outputs": [
    {
     "name": "stdout",
     "output_type": "stream",
     "text": [
      "Task deleted!\n",
      "[{'id': 555125, 'name': 'TaskManager Prototype', 'description': 'For WeStride Challenge', 'started date': '24/10/2024', 'completed date': '-', 'status': 'Waiting'}]\n"
     ]
    }
   ],
   "source": [
    "taskManager.deleteTask(190016)"
   ]
  },
  {
   "cell_type": "code",
   "execution_count": 57,
   "metadata": {},
   "outputs": [
    {
     "name": "stdout",
     "output_type": "stream",
     "text": [
      "Found 2 results.\n",
      "[{'id': 142116, 'name': 'TaskManager Prototype', 'description': 'For WeStride Challenge', 'started date': '24/10/2024', 'completed date': '-', 'status': 'Waiting'}, {'id': 192366, 'name': 'P', 'description': '', 'started date': '24/10/2024', 'completed date': '-', 'status': 'Waiting'}]\n"
     ]
    }
   ],
   "source": [
    "taskManager.findTask('P')"
   ]
  }
 ],
 "metadata": {
  "kernelspec": {
   "display_name": "Python 3",
   "language": "python",
   "name": "python3"
  },
  "language_info": {
   "codemirror_mode": {
    "name": "ipython",
    "version": 3
   },
   "file_extension": ".py",
   "mimetype": "text/x-python",
   "name": "python",
   "nbconvert_exporter": "python",
   "pygments_lexer": "ipython3",
   "version": "3.12.6"
  }
 },
 "nbformat": 4,
 "nbformat_minor": 2
}
