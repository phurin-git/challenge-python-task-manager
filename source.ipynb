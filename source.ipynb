{
 "cells": [
  {
   "cell_type": "code",
   "execution_count": 19,
   "metadata": {},
   "outputs": [],
   "source": [
    "import uuid\n",
    "from datetime import datetime\n",
    "\n",
    "class TaskManager:\n",
    "  tasks = [{\n",
    "    \"id\": int(str(uuid.uuid4().int)[:6]),\n",
    "    \"name\": \"TaskManager Prototype\",\n",
    "    \"description\": \"For WeStride Challenge\",\n",
    "    \"started date\": \"24/10/2024\",\n",
    "    \"completed date\": \"-\",\n",
    "    \"status\": \"Waiting\"\n",
    "  }]\n",
    "\n",
    "  def __init__(self):\n",
    "    pass\n",
    "\n",
    "  def addTask(self):\n",
    "    taskId = int(str(uuid.uuid4().int)[:6])\n",
    "    self.tasks.append({\n",
    "      \"id\": taskId,\n",
    "      \"name\": input(\"input task's name: \"),\n",
    "      \"description\": input(\"input task's description: \"),\n",
    "      \"started date\": datetime.now().strftime(\"%d/%m/%Y\"),\n",
    "      \"completed date\": \"-\",\n",
    "      \"status\": \"Waiting\"\n",
    "    })\n",
    "    isSuccess = False\n",
    "    for task in self.tasks:\n",
    "      if task[\"id\"] == taskId:\n",
    "        print(\"Add task success!\")\n",
    "        print(task)\n",
    "        isSuccess = True\n",
    "        break\n",
    "    if not isSuccess:\n",
    "      print(\"Add task not success!!!\")\n",
    "\n",
    "  def viewTask(self):\n",
    "    print(self.tasks)\n",
    "\n",
    "  def completedTask(self, taskId:int):\n",
    "    for task in self.tasks:\n",
    "      if task[\"id\"] == taskId:\n",
    "        task[\"completed date\"] = datetime.now().strftime(\"%d/%m/%Y\")\n",
    "        task[\"status\"] = \"Completed\"\n",
    "        break\n",
    "    isSuccess = False\n",
    "    for task in self.tasks:\n",
    "      if task[\"id\"] == taskId and task[\"status\"] == \"Completed\":\n",
    "        print(\"Task Completed!\")\n",
    "        print(task)\n",
    "        isSuccess = True\n",
    "        break\n",
    "    if not isSuccess:\n",
    "      print(\"Task not found!!!\")\n",
    "\n",
    "  def deleteTask(self, taskId:int):\n",
    "    for i in len(self.tasks):\n",
    "      if self.tasks[i][\"id\"] == taskId:\n",
    "        self.tasks.pop(i)\n",
    "        break\n",
    "    for task in self.tasks:\n",
    "      if task[\"id\"] == taskId:\n",
    "        print(\"Task delete not success!!!\")\n",
    "        break\n",
    "    print(\"Task deleted!\")\n",
    "    print(self.tasks)\n",
    "\n",
    "  def loadTask(self):\n",
    "    pass\n",
    "\n",
    "  def findTask(self):\n",
    "    pass"
   ]
  },
  {
   "cell_type": "code",
   "execution_count": 20,
   "metadata": {},
   "outputs": [
    {
     "name": "stdout",
     "output_type": "stream",
     "text": [
      "[{'id': 226795, 'name': 'TaskManager Prototype', 'description': 'For WeStride Challenge', 'started date': '24/10/2024', 'completed date': '-', 'status': 'Waiting'}]\n",
      "Add task success!\n",
      "{'id': 198765, 'name': 'test', 'description': 'test', 'started date': '24/10/2024', 'completed date': '-', 'status': 'Waiting'}\n"
     ]
    }
   ],
   "source": [
    "taskManager = TaskManager()\n",
    "taskManager.viewTask()\n",
    "taskManager.addTask()"
   ]
  },
  {
   "cell_type": "code",
   "execution_count": 23,
   "metadata": {},
   "outputs": [
    {
     "name": "stdout",
     "output_type": "stream",
     "text": [
      "Task Completed!\n",
      "{'id': 198765, 'name': 'test', 'description': 'test', 'started date': '24/10/2024', 'completed date': '24/10/2024', 'status': 'Completed'}\n"
     ]
    }
   ],
   "source": [
    "taskManager.completedTask(198765)"
   ]
  },
  {
   "cell_type": "code",
   "execution_count": 24,
   "metadata": {},
   "outputs": [
    {
     "ename": "TypeError",
     "evalue": "'dict' object cannot be interpreted as an integer",
     "output_type": "error",
     "traceback": [
      "\u001b[1;31m---------------------------------------------------------------------------\u001b[0m",
      "\u001b[1;31mTypeError\u001b[0m                                 Traceback (most recent call last)",
      "Cell \u001b[1;32mIn[24], line 1\u001b[0m\n\u001b[1;32m----> 1\u001b[0m \u001b[43mtaskManager\u001b[49m\u001b[38;5;241;43m.\u001b[39;49m\u001b[43mdeleteTask\u001b[49m\u001b[43m(\u001b[49m\u001b[38;5;241;43m198765\u001b[39;49m\u001b[43m)\u001b[49m\n",
      "Cell \u001b[1;32mIn[19], line 59\u001b[0m, in \u001b[0;36mTaskManager.deleteTask\u001b[1;34m(self, taskId)\u001b[0m\n\u001b[0;32m     57\u001b[0m \u001b[38;5;28;01mfor\u001b[39;00m task \u001b[38;5;129;01min\u001b[39;00m \u001b[38;5;28mself\u001b[39m\u001b[38;5;241m.\u001b[39mtasks:\n\u001b[0;32m     58\u001b[0m   \u001b[38;5;28;01mif\u001b[39;00m task[\u001b[38;5;124m\"\u001b[39m\u001b[38;5;124mid\u001b[39m\u001b[38;5;124m\"\u001b[39m] \u001b[38;5;241m==\u001b[39m taskId:\n\u001b[1;32m---> 59\u001b[0m     \u001b[38;5;28;43mself\u001b[39;49m\u001b[38;5;241;43m.\u001b[39;49m\u001b[43mtasks\u001b[49m\u001b[38;5;241;43m.\u001b[39;49m\u001b[43mpop\u001b[49m\u001b[43m(\u001b[49m\u001b[43mtask\u001b[49m\u001b[43m)\u001b[49m\n\u001b[0;32m     60\u001b[0m     \u001b[38;5;28;01mbreak\u001b[39;00m\n\u001b[0;32m     61\u001b[0m \u001b[38;5;28;01mfor\u001b[39;00m task \u001b[38;5;129;01min\u001b[39;00m \u001b[38;5;28mself\u001b[39m\u001b[38;5;241m.\u001b[39mtasks:\n",
      "\u001b[1;31mTypeError\u001b[0m: 'dict' object cannot be interpreted as an integer"
     ]
    }
   ],
   "source": [
    "taskManager.deleteTask(198765)"
   ]
  },
  {
   "cell_type": "code",
   "execution_count": null,
   "metadata": {},
   "outputs": [],
   "source": [
    "tas"
   ]
  }
 ],
 "metadata": {
  "kernelspec": {
   "display_name": "Python 3",
   "language": "python",
   "name": "python3"
  },
  "language_info": {
   "codemirror_mode": {
    "name": "ipython",
    "version": 3
   },
   "file_extension": ".py",
   "mimetype": "text/x-python",
   "name": "python",
   "nbconvert_exporter": "python",
   "pygments_lexer": "ipython3",
   "version": "3.12.6"
  }
 },
 "nbformat": 4,
 "nbformat_minor": 2
}
