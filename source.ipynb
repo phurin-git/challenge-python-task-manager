{
 "cells": [
  {
   "cell_type": "code",
   "execution_count": null,
   "metadata": {},
   "outputs": [],
   "source": [
    "import uuid\n",
    "\n",
    "class TaskManager:\n",
    "  tasks = [{\n",
    "    \"id\": str(uuid.uuid4().int)[:6],\n",
    "    \"name\": \"TaskManager Prototype\",\n",
    "    \"description\": \"For WeStride Challenge\",\n",
    "    \"started date\": \"24/10/2024\",\n",
    "    \"completed date\": \"-\"\n",
    "  }]\n",
    "\n",
    "  def __init__(self):\n",
    "    pass\n",
    "\n",
    "  def addTask(self):\n",
    "    pass\n",
    "\n",
    "  def viewTask(self):\n",
    "    print(self.tasks)\n",
    "\n",
    "  def completedTask(self):\n",
    "    pass\n",
    "\n",
    "  def deleteTask(self):\n",
    "    pass\n",
    "\n",
    "  def loadTask(self):\n",
    "    pass\n",
    "\n",
    "  def findTask(self):\n",
    "    pass"
   ]
  }
 ],
 "metadata": {
  "language_info": {
   "name": "python"
  }
 },
 "nbformat": 4,
 "nbformat_minor": 2
}
