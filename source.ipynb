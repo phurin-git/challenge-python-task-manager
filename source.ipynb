{
 "cells": [
  {
   "cell_type": "code",
   "execution_count": 77,
   "metadata": {},
   "outputs": [],
   "source": [
    "import uuid, json\n",
    "from datetime import datetime\n",
    "\n",
    "class TaskManager:\n",
    "  def __init__(self):\n",
    "    self.loadTask()\n",
    "\n",
    "  def addTask(self):\n",
    "    taskId = int(str(uuid.uuid4().int)[:6])\n",
    "    self.tasks.append({\n",
    "      \"id\": taskId,\n",
    "      \"name\": input(\"input task's name: \"),\n",
    "      \"description\": input(\"input task's description: \"),\n",
    "      \"started date\": datetime.now().strftime(\"%d/%m/%Y\"),\n",
    "      \"completed date\": \"-\",\n",
    "      \"status\": \"Waiting\"\n",
    "    })\n",
    "    self.saveTask()\n",
    "    isSuccess = False\n",
    "    for task in self.tasks:\n",
    "      if task[\"id\"] == taskId:\n",
    "        print(\"Add task success!\")\n",
    "        print(task)\n",
    "        isSuccess = True\n",
    "        break\n",
    "    if not isSuccess:\n",
    "      print(\"Add task not success!!!\")\n",
    "\n",
    "  def viewTask(self):\n",
    "    for task in self.tasks:\n",
    "      print(task)\n",
    "\n",
    "  def completedTask(self, taskId:int):\n",
    "    for task in self.tasks:\n",
    "      if task[\"id\"] == taskId:\n",
    "        task[\"completed date\"] = datetime.now().strftime(\"%d/%m/%Y\")\n",
    "        task[\"status\"] = \"Completed\"\n",
    "        self.saveTask()\n",
    "        break\n",
    "    isSuccess = False\n",
    "    for task in self.tasks:\n",
    "      if task[\"id\"] == taskId and task[\"status\"] == \"Completed\":\n",
    "        print(\"Task Completed!\")\n",
    "        print(task)\n",
    "        isSuccess = True\n",
    "        break\n",
    "    if not isSuccess:\n",
    "      print(\"Task not found!!!\")\n",
    "\n",
    "  def deleteTask(self, taskId:int):\n",
    "    for i in range(len(self.tasks)):\n",
    "      if self.tasks[i][\"id\"] == taskId:\n",
    "        self.tasks.pop(i)\n",
    "        self.saveTask()\n",
    "        break\n",
    "    for task in self.tasks:\n",
    "      if task[\"id\"] == taskId:\n",
    "        print(\"Task delete not success!!!\")\n",
    "        break\n",
    "    print(\"Task deleted!\")\n",
    "    self.viewTask()\n",
    "\n",
    "  def loadTask(self):\n",
    "    with open('sample.json', 'r') as openfile:\n",
    "      self.tasks = json.load(openfile)\n",
    "    print(\"Tasks are Loaded\")\n",
    "\n",
    "  def saveTask(self):\n",
    "    with open(\"sample.json\", \"w\") as outfile:\n",
    "      outfile.write(json.dumps(self.tasks, indent=2))\n",
    "    print(\"Tasks are saved into JSON file.\")\n",
    "\n",
    "  def findTask(self, wordToFind):\n",
    "    results = []\n",
    "    for i in range(len(self.tasks)):\n",
    "      for value in self.tasks[i].values():\n",
    "        if str(value).find(wordToFind) >= 0:\n",
    "          results.append(self.tasks[i])\n",
    "          break\n",
    "    print(f\"Found {len(results)} result{\"s\"*bool(len(results))}.\")\n",
    "    for result in results:\n",
    "      print(result)"
   ]
  },
  {
   "cell_type": "code",
   "execution_count": 80,
   "metadata": {},
   "outputs": [
    {
     "name": "stdout",
     "output_type": "stream",
     "text": [
      "Tasks are Loaded\n",
      "{'id': 610220, 'name': 'TaskManager Prototype', 'description': 'For WeStride Challenge', 'started date': '24/10/2024', 'completed date': '-', 'status': 'Waiting'}\n",
      "{'id': 257409, 'name': 'Test saveTask', 'description': 'for test saveTask method', 'started date': '24/10/2024', 'completed date': '-', 'status': 'Waiting'}\n"
     ]
    }
   ],
   "source": [
    "taskManager = TaskManager()\n",
    "taskManager.viewTask()"
   ]
  },
  {
   "cell_type": "code",
   "execution_count": 79,
   "metadata": {},
   "outputs": [
    {
     "name": "stdout",
     "output_type": "stream",
     "text": [
      "Tasks are saved into JSON file.\n",
      "Add task success!\n",
      "{'id': 257409, 'name': 'Test saveTask', 'description': 'for test saveTask method', 'started date': '24/10/2024', 'completed date': '-', 'status': 'Waiting'}\n"
     ]
    }
   ],
   "source": [
    "taskManager.addTask()"
   ]
  },
  {
   "cell_type": "code",
   "execution_count": 63,
   "metadata": {},
   "outputs": [
    {
     "name": "stdout",
     "output_type": "stream",
     "text": [
      "Task not found!!!\n"
     ]
    }
   ],
   "source": [
    "taskManager.completedTask(190016)"
   ]
  },
  {
   "cell_type": "code",
   "execution_count": 65,
   "metadata": {},
   "outputs": [
    {
     "name": "stdout",
     "output_type": "stream",
     "text": [
      "Task deleted!\n",
      "{'id': 850301, 'name': 'TaskManager Prototype', 'description': 'For WeStride Challenge', 'started date': '24/10/2024', 'completed date': '-', 'status': 'Waiting'}\n",
      "{'id': 171639, 'name': 'P', 'description': '', 'started date': '24/10/2024', 'completed date': '-', 'status': 'Waiting'}\n"
     ]
    }
   ],
   "source": [
    "taskManager.deleteTask(190016)"
   ]
  },
  {
   "cell_type": "code",
   "execution_count": 66,
   "metadata": {},
   "outputs": [
    {
     "name": "stdout",
     "output_type": "stream",
     "text": [
      "Found 2 results.\n",
      "{'id': 850301, 'name': 'TaskManager Prototype', 'description': 'For WeStride Challenge', 'started date': '24/10/2024', 'completed date': '-', 'status': 'Waiting'}\n",
      "{'id': 171639, 'name': 'P', 'description': '', 'started date': '24/10/2024', 'completed date': '-', 'status': 'Waiting'}\n"
     ]
    }
   ],
   "source": [
    "taskManager.findTask('P')"
   ]
  }
 ],
 "metadata": {
  "kernelspec": {
   "display_name": "Python 3",
   "language": "python",
   "name": "python3"
  },
  "language_info": {
   "codemirror_mode": {
    "name": "ipython",
    "version": 3
   },
   "file_extension": ".py",
   "mimetype": "text/x-python",
   "name": "python",
   "nbconvert_exporter": "python",
   "pygments_lexer": "ipython3",
   "version": "3.12.6"
  }
 },
 "nbformat": 4,
 "nbformat_minor": 2
}
